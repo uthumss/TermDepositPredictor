{
 "cells": [
  {
   "metadata": {},
   "cell_type": "markdown",
   "source": "",
   "id": "7ac91b4982c7e876"
  },
  {
   "metadata": {},
   "cell_type": "markdown",
   "source": "",
   "id": "c8f768a8b1041e68"
  },
  {
   "metadata": {
    "ExecuteTime": {
     "end_time": "2024-12-30T15:00:19.427706Z",
     "start_time": "2024-12-30T15:00:19.295773Z"
    }
   },
   "cell_type": "code",
   "source": [
    "import pandas as pd\n",
    "import matplotlib.pyplot as plt\n",
    "\n",
    "# Loading the dataset\n",
    "data = pd.read_csv('data/bank-additional-full-preprocessed.csv')\n",
    "\n",
    "data.columns"
   ],
   "id": "2725b831ce2fbd9c",
   "outputs": [
    {
     "data": {
      "text/plain": [
       "Index(['age', 'job', 'marital', 'education', 'default', 'housing', 'loan',\n",
       "       'contact', 'month', 'day_of_week', 'campaign', 'pdays', 'previous',\n",
       "       'poutcome', 'emp.var.rate', 'cons.price.idx', 'cons.conf.idx',\n",
       "       'euribor3m', 'nr.employed', 'y'],\n",
       "      dtype='object')"
      ]
     },
     "execution_count": 60,
     "metadata": {},
     "output_type": "execute_result"
    }
   ],
   "execution_count": 60
  },
  {
   "metadata": {
    "ExecuteTime": {
     "end_time": "2024-12-30T15:00:24.531652Z",
     "start_time": "2024-12-30T15:00:24.518739Z"
    }
   },
   "cell_type": "code",
   "source": [
    "import torch\n",
    "import torch.nn as nn\n",
    "import torch.nn.functional as F\n",
    "\n",
    "\n",
    "\n",
    "# Create a model class that inherits nn module\n",
    "class Model(nn.Module):\n",
    "    def __init__(self,in_features=19,h1=25,h2=26,out_features=2):\n",
    "        super().__init__()\n",
    "        self.fc1 = nn.Linear(in_features,h1)\n",
    "        self.fc2 = nn.Linear(h1,h2)\n",
    "        self.out = nn.Linear(h2,out_features)\n",
    "\n",
    "    def forward(self, x):\n",
    "        x = F.relu(self.fc1(x))\n",
    "        x = F.relu(self.fc2(x))\n",
    "        x = self.out(x)\n",
    "\n",
    "        return x\n",
    "\n",
    "\n",
    "\n"
   ],
   "id": "b8aa2a38afb51388",
   "outputs": [],
   "execution_count": 61
  },
  {
   "metadata": {
    "ExecuteTime": {
     "end_time": "2024-12-30T15:00:33.182816Z",
     "start_time": "2024-12-30T15:00:33.173171Z"
    }
   },
   "cell_type": "code",
   "source": [
    "# pick a manual seed for randomization\n",
    "torch.manual_seed(41)\n",
    "\n",
    "# create instance of model\n",
    "model = Model()"
   ],
   "id": "fcc49dad48f263f6",
   "outputs": [],
   "execution_count": 62
  },
  {
   "metadata": {
    "ExecuteTime": {
     "end_time": "2024-12-30T15:00:35.472110Z",
     "start_time": "2024-12-30T15:00:35.374236Z"
    }
   },
   "cell_type": "code",
   "source": [
    "from sklearn.preprocessing import LabelEncoder\n",
    "\n",
    "# Transforming categorical columns to numerical\n",
    "cols = data.select_dtypes(\"object\").columns\n",
    "le = LabelEncoder()\n",
    "data[cols] = data[cols].apply(le.fit_transform)"
   ],
   "id": "c5e4e46981d255f9",
   "outputs": [],
   "execution_count": 63
  },
  {
   "metadata": {
    "ExecuteTime": {
     "end_time": "2024-12-30T15:00:37.145841Z",
     "start_time": "2024-12-30T15:00:37.128725Z"
    }
   },
   "cell_type": "code",
   "source": [
    "import numpy as np\n",
    "\n",
    "# Train test Split\n",
    "\n",
    "y = data['y']\n",
    "X = data.drop(columns=['y'])\n",
    "\n",
    "# Convert to numpy arrays\n",
    "X = X.values\n",
    "y = y.values"
   ],
   "id": "b5b13cd61816cd39",
   "outputs": [],
   "execution_count": 64
  },
  {
   "metadata": {
    "ExecuteTime": {
     "end_time": "2024-12-30T15:00:39.549063Z",
     "start_time": "2024-12-30T15:00:39.524645Z"
    }
   },
   "cell_type": "code",
   "source": [
    "from sklearn.model_selection import train_test_split\n",
    "X_train, X_test, y_train, y_test = train_test_split(X, y, test_size=0.3, random_state=41)"
   ],
   "id": "f42be494bd0fa16c",
   "outputs": [],
   "execution_count": 65
  },
  {
   "metadata": {
    "ExecuteTime": {
     "end_time": "2024-12-30T15:00:41.342693Z",
     "start_time": "2024-12-30T15:00:41.333292Z"
    }
   },
   "cell_type": "code",
   "source": [
    "# Convert X features to float tensors\n",
    "X_train = torch.FloatTensor(X_train)\n",
    "X_test = torch.FloatTensor(X_test)\n",
    "\n",
    "# Convert y features to float tensors\n",
    "y_train = torch.FloatTensor(y_train)\n",
    "y_test = torch.FloatTensor(y_test)"
   ],
   "id": "8766b0209d37d583",
   "outputs": [],
   "execution_count": 66
  },
  {
   "metadata": {
    "ExecuteTime": {
     "end_time": "2024-12-30T15:00:43.542107Z",
     "start_time": "2024-12-30T15:00:43.532823Z"
    }
   },
   "cell_type": "code",
   "source": [
    "# Set the criterion to measure the error\n",
    "criterion = nn.CrossEntropyLoss()\n",
    "\n",
    "# Choose Optimizer\n",
    "optimizer = torch.optim.Adam(model.parameters(), lr=0.01)"
   ],
   "id": "670d0c924099c43b",
   "outputs": [],
   "execution_count": 67
  },
  {
   "metadata": {
    "ExecuteTime": {
     "end_time": "2024-12-30T15:01:57.630490Z",
     "start_time": "2024-12-30T15:01:56.171547Z"
    }
   },
   "cell_type": "code",
   "source": [
    "# Train model\n",
    "\n",
    "# Determining Epochs\n",
    "epochs = 100\n",
    "losses = []\n",
    "\n",
    "for i in range(epochs):\n",
    "    y_pred = model.forward(X_train)\n",
    "\n",
    "    # Ensure y_train is the correct type for classification\n",
    "    y_train = y_train.long()  # Only needed for classification problems\n",
    "\n",
    "    # measure the loss\n",
    "    loss = criterion(y_pred, y_train)\n",
    "\n",
    "    # track loss\n",
    "    losses.append(loss.detach().numpy())\n",
    "\n",
    "    # print every 10 epochs\n",
    "    if i % 10 ==0:\n",
    "        print(f'Epoch {i} Loss: {loss}')\n",
    "\n",
    "    # back propagation\n",
    "    optimizer.zero_grad()\n",
    "    loss.backward()\n",
    "    optimizer.step()"
   ],
   "id": "f8686699352a471b",
   "outputs": [
    {
     "name": "stdout",
     "output_type": "stream",
     "text": [
      "Epoch 0 Loss: 0.3330076336860657\n",
      "Epoch 10 Loss: 0.3159702718257904\n",
      "Epoch 20 Loss: 0.3153427839279175\n",
      "Epoch 30 Loss: 0.3141644597053528\n",
      "Epoch 40 Loss: 0.3131076991558075\n",
      "Epoch 50 Loss: 0.3123365044593811\n",
      "Epoch 60 Loss: 0.3116730749607086\n",
      "Epoch 70 Loss: 0.3110640048980713\n",
      "Epoch 80 Loss: 0.3104799687862396\n",
      "Epoch 90 Loss: 0.3099014461040497\n"
     ]
    }
   ],
   "execution_count": 70
  },
  {
   "metadata": {
    "ExecuteTime": {
     "end_time": "2024-12-30T15:01:59.886092Z",
     "start_time": "2024-12-30T15:01:59.744712Z"
    }
   },
   "cell_type": "code",
   "source": [
    "# Visualizing error\n",
    "plt.plot(range(epochs), losses)\n",
    "plt.ylabel(\"loss/error\")\n",
    "plt.xlabel(\"epoch\")"
   ],
   "id": "8da27aae340cd569",
   "outputs": [
    {
     "data": {
      "text/plain": [
       "Text(0.5, 0, 'epoch')"
      ]
     },
     "execution_count": 71,
     "metadata": {},
     "output_type": "execute_result"
    },
    {
     "data": {
      "text/plain": [
       "<Figure size 640x480 with 1 Axes>"
      ],
      "image/png": "[encoded data removed]"
     },
     "metadata": {},
     "output_type": "display_data"
    }
   ],
   "execution_count": 71
  }
 ],
 "metadata": {
  "kernelspec": {
   "display_name": "Python 3",
   "language": "python",
   "name": "python3"
  },
  "language_info": {
   "codemirror_mode": {
    "name": "ipython",
    "version": 2
   },
   "file_extension": ".py",
   "mimetype": "text/x-python",
   "name": "python",
   "nbconvert_exporter": "python",
   "pygments_lexer": "ipython2",
   "version": "2.7.6"
  }
 },
 "nbformat": 4,
 "nbformat_minor": 5
}
