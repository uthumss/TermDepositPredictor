{
 "cells": [
  {
   "metadata": {},
   "cell_type": "markdown",
   "source": "Pre-processing the data before implementing the ML models",
   "id": "6416df730826ff9e"
  },
  {
   "cell_type": "code",
   "id": "initial_id",
   "metadata": {
    "collapsed": true,
    "ExecuteTime": {
     "end_time": "2024-12-20T04:26:35.910472Z",
     "start_time": "2024-12-20T04:26:35.810593Z"
    }
   },
   "source": [
    "import pandas as pd\n",
    "\n",
    "# Loading the dataset\n",
    "data = pd.read_csv('data/bank-full.csv')\n",
    "\n",
    "# Basic Info\n",
    "data_info = {\n",
    "    \"columns\" : data.columns.tolist(),\n",
    "    \"head\" : data.head(),\n",
    "}\n",
    "\n",
    "data_info"
   ],
   "outputs": [
    {
     "data": {
      "text/plain": [
       "{'columns': ['age;\"job\";\"marital\";\"education\";\"default\";\"balance\";\"housing\";\"loan\";\"contact\";\"day\";\"month\";\"duration\";\"campaign\";\"pdays\";\"previous\";\"poutcome\";\"y\"'],\n",
       " 'head':   age;\"job\";\"marital\";\"education\";\"default\";\"balance\";\"housing\";\"loan\";\"contact\";\"day\";\"month\";\"duration\";\"campaign\";\"pdays\";\"previous\";\"poutcome\";\"y\"\n",
       " 0  58;\"management\";\"married\";\"tertiary\";\"no\";2143...                                                                                                  \n",
       " 1  44;\"technician\";\"single\";\"secondary\";\"no\";29;\"...                                                                                                  \n",
       " 2  33;\"entrepreneur\";\"married\";\"secondary\";\"no\";2...                                                                                                  \n",
       " 3  47;\"blue-collar\";\"married\";\"unknown\";\"no\";1506...                                                                                                  \n",
       " 4  33;\"unknown\";\"single\";\"unknown\";\"no\";1;\"no\";\"n...                                                                                                  }"
      ]
     },
     "execution_count": 8,
     "metadata": {},
     "output_type": "execute_result"
    }
   ],
   "execution_count": 8
  },
  {
   "metadata": {
    "ExecuteTime": {
     "end_time": "2024-12-20T04:26:38.260791Z",
     "start_time": "2024-12-20T04:26:38.119500Z"
    }
   },
   "cell_type": "code",
   "source": [
    "# Organizing the dataset into columns\n",
    "col_data = pd.read_csv('data/bank-full.csv', delimiter=';', quotechar='\"')\n",
    "\n",
    "# Displaying basic info after seperating into columns\n",
    "col_data_info = {\n",
    "    \"columns\": col_data.columns.tolist(),\n",
    "    \"head\": col_data.head(),\n",
    "}\n",
    "\n",
    "col_data_info"
   ],
   "id": "dda0eb9e6921da0b",
   "outputs": [
    {
     "data": {
      "text/plain": [
       "{'columns': ['age',\n",
       "  'job',\n",
       "  'marital',\n",
       "  'education',\n",
       "  'default',\n",
       "  'balance',\n",
       "  'housing',\n",
       "  'loan',\n",
       "  'contact',\n",
       "  'day',\n",
       "  'month',\n",
       "  'duration',\n",
       "  'campaign',\n",
       "  'pdays',\n",
       "  'previous',\n",
       "  'poutcome',\n",
       "  'y'],\n",
       " 'head':    age           job  marital  education default  balance housing loan  \\\n",
       " 0   58    management  married   tertiary      no     2143     yes   no   \n",
       " 1   44    technician   single  secondary      no       29     yes   no   \n",
       " 2   33  entrepreneur  married  secondary      no        2     yes  yes   \n",
       " 3   47   blue-collar  married    unknown      no     1506     yes   no   \n",
       " 4   33       unknown   single    unknown      no        1      no   no   \n",
       " \n",
       "    contact  day month  duration  campaign  pdays  previous poutcome   y  \n",
       " 0  unknown    5   may       261         1     -1         0  unknown  no  \n",
       " 1  unknown    5   may       151         1     -1         0  unknown  no  \n",
       " 2  unknown    5   may        76         1     -1         0  unknown  no  \n",
       " 3  unknown    5   may        92         1     -1         0  unknown  no  \n",
       " 4  unknown    5   may       198         1     -1         0  unknown  no  }"
      ]
     },
     "execution_count": 9,
     "metadata": {},
     "output_type": "execute_result"
    }
   ],
   "execution_count": 9
  },
  {
   "metadata": {
    "ExecuteTime": {
     "end_time": "2024-12-20T04:26:41.050569Z",
     "start_time": "2024-12-20T04:26:41.019217Z"
    }
   },
   "cell_type": "code",
   "source": [
    "# Checking for missing Values\n",
    "missing_values_count = col_data.isnull().sum()\n",
    "missing_values_count"
   ],
   "id": "6bab4c20f435534b",
   "outputs": [
    {
     "data": {
      "text/plain": [
       "age          0\n",
       "job          0\n",
       "marital      0\n",
       "education    0\n",
       "default      0\n",
       "balance      0\n",
       "housing      0\n",
       "loan         0\n",
       "contact      0\n",
       "day          0\n",
       "month        0\n",
       "duration     0\n",
       "campaign     0\n",
       "pdays        0\n",
       "previous     0\n",
       "poutcome     0\n",
       "y            0\n",
       "dtype: int64"
      ]
     },
     "execution_count": 10,
     "metadata": {},
     "output_type": "execute_result"
    }
   ],
   "execution_count": 10
  },
  {
   "metadata": {
    "ExecuteTime": {
     "end_time": "2024-12-20T04:27:37.952251Z",
     "start_time": "2024-12-20T04:27:37.729036Z"
    }
   },
   "cell_type": "code",
   "source": [
    "from sklearn.preprocessing import LabelEncoder, StandardScaler\n",
    "\n",
    "# Load the dataset\n",
    "input_path = \"data/bank-full.csv\"  # Adjust the path to your dataset\n",
    "col_data = pd.read_csv(input_path)\n",
    "\n",
    "# Print column names for debugging\n",
    "print(\"Columns in dataset:\", col_data.columns)\n",
    "\n",
    "# Step 1: Replace \"unknown\" and -1 placeholders\n",
    "col_data.replace(\"unknown\", pd.NA, inplace=True)  # Replace \"unknown\" with NaN\n",
    "if 'pdays' in col_data.columns:\n",
    "    col_data['pdays'] = col_data['pdays'].replace(-1, pd.NA)  # Replace -1 with NaN\n",
    "\n",
    "# Step 2: Remove unnecessary columns\n",
    "if 'duration' in col_data.columns:\n",
    "    col_data.drop(columns=['duration'], inplace=True)\n",
    "\n",
    "# Step 3: Process categorical columns\n",
    "categorical_columns = [\n",
    "    'job', 'marital', 'education', 'default', 'housing', 'loan',\n",
    "    'contact', 'month', 'poutcome', 'y'\n",
    "]\n",
    "\n",
    "label_encoders = {}\n",
    "for col in categorical_columns:\n",
    "    if col in col_data.columns:  # Ensure the column exists\n",
    "        col_data[col] = col_data[col].astype(str).str.lower().str.strip()\n",
    "        le = LabelEncoder()\n",
    "        col_data[col] = le.fit_transform(col_data[col].fillna(\"missing\"))  # Handle NaNs with \"missing\"\n",
    "        label_encoders[col] = le\n",
    "\n",
    "# Step 4: Process numerical columns\n",
    "numerical_columns = ['age', 'balance', 'day', 'campaign', 'pdays', 'previous']\n",
    "\n",
    "# Check for the existence of numerical columns and fill missing values\n",
    "for col in numerical_columns:\n",
    "    if col in col_data.columns:\n",
    "        col_data[col] = col_data[col].fillna(col_data[col].mean())\n",
    "\n",
    "# Scale numerical columns using StandardScaler\n",
    "scaler = StandardScaler()\n",
    "for col in numerical_columns:\n",
    "    if col in col_data.columns:\n",
    "        col_data[col] = scaler.fit_transform(col_data[[col]])\n",
    "\n",
    "# Step 5: Export the preprocessed dataset\n",
    "output_path = \"data/bank-full-preprocessed.csv\"\n",
    "col_data.to_csv(output_path, index=False)\n",
    "\n",
    "print(f\"Preprocessed dataset saved to: {output_path}\")"
   ],
   "id": "a8c5c0616427dfd1",
   "outputs": [
    {
     "name": "stdout",
     "output_type": "stream",
     "text": [
      "Columns in dataset: Index(['age;\"job\";\"marital\";\"education\";\"default\";\"balance\";\"housing\";\"loan\";\"contact\";\"day\";\"month\";\"duration\";\"campaign\";\"pdays\";\"previous\";\"poutcome\";\"y\"'], dtype='object')\n",
      "Preprocessed dataset saved to: data/bank-full-preprocessed.csv\n"
     ]
    }
   ],
   "execution_count": 12
  },
  {
   "metadata": {
    "ExecuteTime": {
     "end_time": "2024-12-19T18:30:20.540329Z",
     "start_time": "2024-12-19T18:30:20.537016Z"
    }
   },
   "cell_type": "code",
   "source": "",
   "id": "e75da34c097c63b3",
   "outputs": [],
   "execution_count": null
  },
  {
   "metadata": {},
   "cell_type": "code",
   "outputs": [],
   "execution_count": null,
   "source": "",
   "id": "455e461dce54c427"
  }
 ],
 "metadata": {
  "kernelspec": {
   "display_name": "Python 3",
   "language": "python",
   "name": "python3"
  },
  "language_info": {
   "codemirror_mode": {
    "name": "ipython",
    "version": 2
   },
   "file_extension": ".py",
   "mimetype": "text/x-python",
   "name": "python",
   "nbconvert_exporter": "python",
   "pygments_lexer": "ipython2",
   "version": "2.7.6"
  }
 },
 "nbformat": 4,
 "nbformat_minor": 5
}
