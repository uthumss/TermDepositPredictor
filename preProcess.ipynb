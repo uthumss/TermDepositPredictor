{
 "cells": [
  {
   "metadata": {},
   "cell_type": "markdown",
   "source": "Pre-processing the data before implementing the ML models",
   "id": "6416df730826ff9e"
  },
  {
   "cell_type": "code",
   "id": "initial_id",
   "metadata": {
    "collapsed": true,
    "ExecuteTime": {
     "end_time": "2024-12-18T07:15:21.232339Z",
     "start_time": "2024-12-18T07:15:21.132255Z"
    }
   },
   "source": [
    "import pandas as pd\n",
    "\n",
    "# Loading the dataset\n",
    "data = pd.read_csv('data/bank-full.csv')\n",
    "\n",
    "# Basic Info\n",
    "data_info = {\n",
    "    \"columns\" : data.columns.tolist(),\n",
    "    \"head\" : data.head(),\n",
    "}\n",
    "\n",
    "data_info"
   ],
   "outputs": [
    {
     "data": {
      "text/plain": [
       "{'columns': ['age;\"job\";\"marital\";\"education\";\"default\";\"balance\";\"housing\";\"loan\";\"contact\";\"day\";\"month\";\"duration\";\"campaign\";\"pdays\";\"previous\";\"poutcome\";\"y\"'],\n",
       " 'head':   age;\"job\";\"marital\";\"education\";\"default\";\"balance\";\"housing\";\"loan\";\"contact\";\"day\";\"month\";\"duration\";\"campaign\";\"pdays\";\"previous\";\"poutcome\";\"y\"\n",
       " 0  58;\"management\";\"married\";\"tertiary\";\"no\";2143...                                                                                                  \n",
       " 1  44;\"technician\";\"single\";\"secondary\";\"no\";29;\"...                                                                                                  \n",
       " 2  33;\"entrepreneur\";\"married\";\"secondary\";\"no\";2...                                                                                                  \n",
       " 3  47;\"blue-collar\";\"married\";\"unknown\";\"no\";1506...                                                                                                  \n",
       " 4  33;\"unknown\";\"single\";\"unknown\";\"no\";1;\"no\";\"n...                                                                                                  }"
      ]
     },
     "execution_count": 7,
     "metadata": {},
     "output_type": "execute_result"
    }
   ],
   "execution_count": 7
  },
  {
   "metadata": {
    "ExecuteTime": {
     "end_time": "2024-12-18T07:33:37.126499Z",
     "start_time": "2024-12-18T07:33:37.009037Z"
    }
   },
   "cell_type": "code",
   "source": [
    "# Organizing the dataset into columns\n",
    "col_data = pd.read_csv('data/bank-full.csv', delimiter=';', quotechar='\"')\n",
    "\n",
    "# Displaying basic info after seperating into columns\n",
    "col_data_info = {\n",
    "    \"columns\": col_data.columns.tolist(),\n",
    "    \"head\": col_data.head(),\n",
    "}\n",
    "\n",
    "col_data_info"
   ],
   "id": "dda0eb9e6921da0b",
   "outputs": [
    {
     "data": {
      "text/plain": [
       "{'columns': ['age',\n",
       "  'job',\n",
       "  'marital',\n",
       "  'education',\n",
       "  'default',\n",
       "  'balance',\n",
       "  'housing',\n",
       "  'loan',\n",
       "  'contact',\n",
       "  'day',\n",
       "  'month',\n",
       "  'duration',\n",
       "  'campaign',\n",
       "  'pdays',\n",
       "  'previous',\n",
       "  'poutcome',\n",
       "  'y'],\n",
       " 'head':    age           job  marital  education default  balance housing loan  \\\n",
       " 0   58    management  married   tertiary      no     2143     yes   no   \n",
       " 1   44    technician   single  secondary      no       29     yes   no   \n",
       " 2   33  entrepreneur  married  secondary      no        2     yes  yes   \n",
       " 3   47   blue-collar  married    unknown      no     1506     yes   no   \n",
       " 4   33       unknown   single    unknown      no        1      no   no   \n",
       " \n",
       "    contact  day month  duration  campaign  pdays  previous poutcome   y  \n",
       " 0  unknown    5   may       261         1     -1         0  unknown  no  \n",
       " 1  unknown    5   may       151         1     -1         0  unknown  no  \n",
       " 2  unknown    5   may        76         1     -1         0  unknown  no  \n",
       " 3  unknown    5   may        92         1     -1         0  unknown  no  \n",
       " 4  unknown    5   may       198         1     -1         0  unknown  no  }"
      ]
     },
     "execution_count": 10,
     "metadata": {},
     "output_type": "execute_result"
    }
   ],
   "execution_count": 10
  },
  {
   "metadata": {
    "ExecuteTime": {
     "end_time": "2024-12-18T07:13:20.380683Z",
     "start_time": "2024-12-18T07:13:20.344770Z"
    }
   },
   "cell_type": "code",
   "source": [
    "# Checking for missing Values\n",
    "missing_values_count = col_data.isnull().sum()\n",
    "missing_values_count"
   ],
   "id": "6bab4c20f435534b",
   "outputs": [
    {
     "data": {
      "text/plain": [
       "age          0\n",
       "job          0\n",
       "marital      0\n",
       "education    0\n",
       "default      0\n",
       "balance      0\n",
       "housing      0\n",
       "loan         0\n",
       "contact      0\n",
       "day          0\n",
       "month        0\n",
       "duration     0\n",
       "campaign     0\n",
       "pdays        0\n",
       "previous     0\n",
       "poutcome     0\n",
       "y            0\n",
       "dtype: int64"
      ]
     },
     "execution_count": 6,
     "metadata": {},
     "output_type": "execute_result"
    }
   ],
   "execution_count": 6
  }
 ],
 "metadata": {
  "kernelspec": {
   "display_name": "Python 3",
   "language": "python",
   "name": "python3"
  },
  "language_info": {
   "codemirror_mode": {
    "name": "ipython",
    "version": 2
   },
   "file_extension": ".py",
   "mimetype": "text/x-python",
   "name": "python",
   "nbconvert_exporter": "python",
   "pygments_lexer": "ipython2",
   "version": "2.7.6"
  }
 },
 "nbformat": 4,
 "nbformat_minor": 5
}
